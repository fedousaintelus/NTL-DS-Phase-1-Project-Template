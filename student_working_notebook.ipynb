{
 "cells": [
  {
   "cell_type": "markdown",
   "metadata": {},
   "source": [
    "# Analysis on risk of Aircraft"
   ]
  },
  {
   "cell_type": "markdown",
   "metadata": {},
   "source": [
    "## Overview"
   ]
  },
  {
   "cell_type": "markdown",
   "metadata": {},
   "source": [
    "This work is a first attemp trying to determine the risks associated with aircrafts using caggle Aviation dataset that includes aviation accident data from 1962 to 2023."
   ]
  },
  {
   "cell_type": "markdown",
   "metadata": {},
   "source": [
    "## Business Understanding"
   ]
  },
  {
   "cell_type": "markdown",
   "metadata": {},
   "source": [
    "- A company wants to purchase and operate airplanes for commercial and private enterprises.\n",
    "-  As data scientists, We are charged to find the aircraft with the lowest risk for the company using caggle Aviation dataset that includes aviation accident data from 1962 to 2023.\n",
    "- We will clean the data and then make analysis to propose potential solutions."
   ]
  },
  {
   "cell_type": "code",
   "execution_count": 66,
   "metadata": {},
   "outputs": [],
   "source": [
    "import numpy as np\n",
    "import pandas as pd\n",
    "import seaborn as sns\n",
    "import matplotlib.pyplot as plt\n",
    "%matplotlib inline"
   ]
  },
  {
   "cell_type": "markdown",
   "metadata": {},
   "source": [
    "## Data Understanding"
   ]
  },
  {
   "cell_type": "code",
   "execution_count": 67,
   "metadata": {
    "scrolled": true
   },
   "outputs": [
    {
     "data": {
      "text/html": [
       "<div>\n",
       "<style scoped>\n",
       "    .dataframe tbody tr th:only-of-type {\n",
       "        vertical-align: middle;\n",
       "    }\n",
       "\n",
       "    .dataframe tbody tr th {\n",
       "        vertical-align: top;\n",
       "    }\n",
       "\n",
       "    .dataframe thead th {\n",
       "        text-align: right;\n",
       "    }\n",
       "</style>\n",
       "<table border=\"1\" class=\"dataframe\">\n",
       "  <thead>\n",
       "    <tr style=\"text-align: right;\">\n",
       "      <th></th>\n",
       "      <th>Event.Id</th>\n",
       "      <th>Investigation.Type</th>\n",
       "      <th>Accident.Number</th>\n",
       "      <th>Event.Date</th>\n",
       "      <th>Location</th>\n",
       "      <th>Country</th>\n",
       "      <th>Latitude</th>\n",
       "      <th>Longitude</th>\n",
       "      <th>Airport.Code</th>\n",
       "      <th>Airport.Name</th>\n",
       "      <th>...</th>\n",
       "      <th>Purpose.of.flight</th>\n",
       "      <th>Air.carrier</th>\n",
       "      <th>Total.Fatal.Injuries</th>\n",
       "      <th>Total.Serious.Injuries</th>\n",
       "      <th>Total.Minor.Injuries</th>\n",
       "      <th>Total.Uninjured</th>\n",
       "      <th>Weather.Condition</th>\n",
       "      <th>Broad.phase.of.flight</th>\n",
       "      <th>Report.Status</th>\n",
       "      <th>Publication.Date</th>\n",
       "    </tr>\n",
       "  </thead>\n",
       "  <tbody>\n",
       "    <tr>\n",
       "      <th>0</th>\n",
       "      <td>20001218X45444</td>\n",
       "      <td>Accident</td>\n",
       "      <td>SEA87LA080</td>\n",
       "      <td>1948-10-24</td>\n",
       "      <td>MOOSE CREEK, ID</td>\n",
       "      <td>United States</td>\n",
       "      <td>NaN</td>\n",
       "      <td>NaN</td>\n",
       "      <td>NaN</td>\n",
       "      <td>NaN</td>\n",
       "      <td>...</td>\n",
       "      <td>Personal</td>\n",
       "      <td>NaN</td>\n",
       "      <td>2.0</td>\n",
       "      <td>0.0</td>\n",
       "      <td>0.0</td>\n",
       "      <td>0.0</td>\n",
       "      <td>UNK</td>\n",
       "      <td>Cruise</td>\n",
       "      <td>Probable Cause</td>\n",
       "      <td>NaN</td>\n",
       "    </tr>\n",
       "    <tr>\n",
       "      <th>1</th>\n",
       "      <td>20001218X45447</td>\n",
       "      <td>Accident</td>\n",
       "      <td>LAX94LA336</td>\n",
       "      <td>1962-07-19</td>\n",
       "      <td>BRIDGEPORT, CA</td>\n",
       "      <td>United States</td>\n",
       "      <td>NaN</td>\n",
       "      <td>NaN</td>\n",
       "      <td>NaN</td>\n",
       "      <td>NaN</td>\n",
       "      <td>...</td>\n",
       "      <td>Personal</td>\n",
       "      <td>NaN</td>\n",
       "      <td>4.0</td>\n",
       "      <td>0.0</td>\n",
       "      <td>0.0</td>\n",
       "      <td>0.0</td>\n",
       "      <td>UNK</td>\n",
       "      <td>Unknown</td>\n",
       "      <td>Probable Cause</td>\n",
       "      <td>19-09-1996</td>\n",
       "    </tr>\n",
       "    <tr>\n",
       "      <th>2</th>\n",
       "      <td>20061025X01555</td>\n",
       "      <td>Accident</td>\n",
       "      <td>NYC07LA005</td>\n",
       "      <td>1974-08-30</td>\n",
       "      <td>Saltville, VA</td>\n",
       "      <td>United States</td>\n",
       "      <td>36.922223</td>\n",
       "      <td>-81.878056</td>\n",
       "      <td>NaN</td>\n",
       "      <td>NaN</td>\n",
       "      <td>...</td>\n",
       "      <td>Personal</td>\n",
       "      <td>NaN</td>\n",
       "      <td>3.0</td>\n",
       "      <td>NaN</td>\n",
       "      <td>NaN</td>\n",
       "      <td>NaN</td>\n",
       "      <td>IMC</td>\n",
       "      <td>Cruise</td>\n",
       "      <td>Probable Cause</td>\n",
       "      <td>26-02-2007</td>\n",
       "    </tr>\n",
       "    <tr>\n",
       "      <th>3</th>\n",
       "      <td>20001218X45448</td>\n",
       "      <td>Accident</td>\n",
       "      <td>LAX96LA321</td>\n",
       "      <td>1977-06-19</td>\n",
       "      <td>EUREKA, CA</td>\n",
       "      <td>United States</td>\n",
       "      <td>NaN</td>\n",
       "      <td>NaN</td>\n",
       "      <td>NaN</td>\n",
       "      <td>NaN</td>\n",
       "      <td>...</td>\n",
       "      <td>Personal</td>\n",
       "      <td>NaN</td>\n",
       "      <td>2.0</td>\n",
       "      <td>0.0</td>\n",
       "      <td>0.0</td>\n",
       "      <td>0.0</td>\n",
       "      <td>IMC</td>\n",
       "      <td>Cruise</td>\n",
       "      <td>Probable Cause</td>\n",
       "      <td>12-09-2000</td>\n",
       "    </tr>\n",
       "    <tr>\n",
       "      <th>4</th>\n",
       "      <td>20041105X01764</td>\n",
       "      <td>Accident</td>\n",
       "      <td>CHI79FA064</td>\n",
       "      <td>1979-08-02</td>\n",
       "      <td>Canton, OH</td>\n",
       "      <td>United States</td>\n",
       "      <td>NaN</td>\n",
       "      <td>NaN</td>\n",
       "      <td>NaN</td>\n",
       "      <td>NaN</td>\n",
       "      <td>...</td>\n",
       "      <td>Personal</td>\n",
       "      <td>NaN</td>\n",
       "      <td>1.0</td>\n",
       "      <td>2.0</td>\n",
       "      <td>NaN</td>\n",
       "      <td>0.0</td>\n",
       "      <td>VMC</td>\n",
       "      <td>Approach</td>\n",
       "      <td>Probable Cause</td>\n",
       "      <td>16-04-1980</td>\n",
       "    </tr>\n",
       "  </tbody>\n",
       "</table>\n",
       "<p>5 rows × 31 columns</p>\n",
       "</div>"
      ],
      "text/plain": [
       "         Event.Id Investigation.Type Accident.Number  Event.Date  \\\n",
       "0  20001218X45444           Accident      SEA87LA080  1948-10-24   \n",
       "1  20001218X45447           Accident      LAX94LA336  1962-07-19   \n",
       "2  20061025X01555           Accident      NYC07LA005  1974-08-30   \n",
       "3  20001218X45448           Accident      LAX96LA321  1977-06-19   \n",
       "4  20041105X01764           Accident      CHI79FA064  1979-08-02   \n",
       "\n",
       "          Location        Country   Latitude   Longitude Airport.Code  \\\n",
       "0  MOOSE CREEK, ID  United States        NaN         NaN          NaN   \n",
       "1   BRIDGEPORT, CA  United States        NaN         NaN          NaN   \n",
       "2    Saltville, VA  United States  36.922223  -81.878056          NaN   \n",
       "3       EUREKA, CA  United States        NaN         NaN          NaN   \n",
       "4       Canton, OH  United States        NaN         NaN          NaN   \n",
       "\n",
       "  Airport.Name  ... Purpose.of.flight Air.carrier Total.Fatal.Injuries  \\\n",
       "0          NaN  ...          Personal         NaN                  2.0   \n",
       "1          NaN  ...          Personal         NaN                  4.0   \n",
       "2          NaN  ...          Personal         NaN                  3.0   \n",
       "3          NaN  ...          Personal         NaN                  2.0   \n",
       "4          NaN  ...          Personal         NaN                  1.0   \n",
       "\n",
       "  Total.Serious.Injuries Total.Minor.Injuries Total.Uninjured  \\\n",
       "0                    0.0                  0.0             0.0   \n",
       "1                    0.0                  0.0             0.0   \n",
       "2                    NaN                  NaN             NaN   \n",
       "3                    0.0                  0.0             0.0   \n",
       "4                    2.0                  NaN             0.0   \n",
       "\n",
       "  Weather.Condition  Broad.phase.of.flight   Report.Status Publication.Date  \n",
       "0               UNK                 Cruise  Probable Cause              NaN  \n",
       "1               UNK                Unknown  Probable Cause       19-09-1996  \n",
       "2               IMC                 Cruise  Probable Cause       26-02-2007  \n",
       "3               IMC                 Cruise  Probable Cause       12-09-2000  \n",
       "4               VMC               Approach  Probable Cause       16-04-1980  \n",
       "\n",
       "[5 rows x 31 columns]"
      ]
     },
     "execution_count": 67,
     "metadata": {},
     "output_type": "execute_result"
    }
   ],
   "source": [
    "# importing the data with a glampse on the top 5 rows.\n",
    "df = pd.read_csv('Data/Aviation_Data.csv', low_memory=False)\n",
    "df.head()"
   ]
  },
  {
   "cell_type": "markdown",
   "metadata": {},
   "source": [
    "## Data Preparation"
   ]
  },
  {
   "cell_type": "markdown",
   "metadata": {},
   "source": [
    "The first thing we see while looking at the top 5 rows of our dataset is that the columns name are not properly writen, let's fix that."
   ]
  },
  {
   "cell_type": "code",
   "execution_count": 68,
   "metadata": {
    "scrolled": true
   },
   "outputs": [
    {
     "data": {
      "text/html": [
       "<div>\n",
       "<style scoped>\n",
       "    .dataframe tbody tr th:only-of-type {\n",
       "        vertical-align: middle;\n",
       "    }\n",
       "\n",
       "    .dataframe tbody tr th {\n",
       "        vertical-align: top;\n",
       "    }\n",
       "\n",
       "    .dataframe thead th {\n",
       "        text-align: right;\n",
       "    }\n",
       "</style>\n",
       "<table border=\"1\" class=\"dataframe\">\n",
       "  <thead>\n",
       "    <tr style=\"text-align: right;\">\n",
       "      <th></th>\n",
       "      <th>Event Id</th>\n",
       "      <th>Investigation Type</th>\n",
       "      <th>Accident Number</th>\n",
       "      <th>Event Date</th>\n",
       "      <th>Location</th>\n",
       "      <th>Country</th>\n",
       "      <th>Latitude</th>\n",
       "      <th>Longitude</th>\n",
       "      <th>Airport Code</th>\n",
       "      <th>Airport Name</th>\n",
       "      <th>...</th>\n",
       "      <th>Purpose of flight</th>\n",
       "      <th>Air carrier</th>\n",
       "      <th>Total Fatal Injuries</th>\n",
       "      <th>Total Serious Injuries</th>\n",
       "      <th>Total Minor Injuries</th>\n",
       "      <th>Total Uninjured</th>\n",
       "      <th>Weather Condition</th>\n",
       "      <th>Broad phase of flight</th>\n",
       "      <th>Report Status</th>\n",
       "      <th>Publication Date</th>\n",
       "    </tr>\n",
       "  </thead>\n",
       "  <tbody>\n",
       "    <tr>\n",
       "      <th>0</th>\n",
       "      <td>20001218X45444</td>\n",
       "      <td>Accident</td>\n",
       "      <td>SEA87LA080</td>\n",
       "      <td>1948-10-24</td>\n",
       "      <td>MOOSE CREEK, ID</td>\n",
       "      <td>United States</td>\n",
       "      <td>NaN</td>\n",
       "      <td>NaN</td>\n",
       "      <td>NaN</td>\n",
       "      <td>NaN</td>\n",
       "      <td>...</td>\n",
       "      <td>Personal</td>\n",
       "      <td>NaN</td>\n",
       "      <td>2.0</td>\n",
       "      <td>0.0</td>\n",
       "      <td>0.0</td>\n",
       "      <td>0.0</td>\n",
       "      <td>UNK</td>\n",
       "      <td>Cruise</td>\n",
       "      <td>Probable Cause</td>\n",
       "      <td>NaN</td>\n",
       "    </tr>\n",
       "    <tr>\n",
       "      <th>1</th>\n",
       "      <td>20001218X45447</td>\n",
       "      <td>Accident</td>\n",
       "      <td>LAX94LA336</td>\n",
       "      <td>1962-07-19</td>\n",
       "      <td>BRIDGEPORT, CA</td>\n",
       "      <td>United States</td>\n",
       "      <td>NaN</td>\n",
       "      <td>NaN</td>\n",
       "      <td>NaN</td>\n",
       "      <td>NaN</td>\n",
       "      <td>...</td>\n",
       "      <td>Personal</td>\n",
       "      <td>NaN</td>\n",
       "      <td>4.0</td>\n",
       "      <td>0.0</td>\n",
       "      <td>0.0</td>\n",
       "      <td>0.0</td>\n",
       "      <td>UNK</td>\n",
       "      <td>Unknown</td>\n",
       "      <td>Probable Cause</td>\n",
       "      <td>19-09-1996</td>\n",
       "    </tr>\n",
       "    <tr>\n",
       "      <th>2</th>\n",
       "      <td>20061025X01555</td>\n",
       "      <td>Accident</td>\n",
       "      <td>NYC07LA005</td>\n",
       "      <td>1974-08-30</td>\n",
       "      <td>Saltville, VA</td>\n",
       "      <td>United States</td>\n",
       "      <td>36.922223</td>\n",
       "      <td>-81.878056</td>\n",
       "      <td>NaN</td>\n",
       "      <td>NaN</td>\n",
       "      <td>...</td>\n",
       "      <td>Personal</td>\n",
       "      <td>NaN</td>\n",
       "      <td>3.0</td>\n",
       "      <td>NaN</td>\n",
       "      <td>NaN</td>\n",
       "      <td>NaN</td>\n",
       "      <td>IMC</td>\n",
       "      <td>Cruise</td>\n",
       "      <td>Probable Cause</td>\n",
       "      <td>26-02-2007</td>\n",
       "    </tr>\n",
       "    <tr>\n",
       "      <th>3</th>\n",
       "      <td>20001218X45448</td>\n",
       "      <td>Accident</td>\n",
       "      <td>LAX96LA321</td>\n",
       "      <td>1977-06-19</td>\n",
       "      <td>EUREKA, CA</td>\n",
       "      <td>United States</td>\n",
       "      <td>NaN</td>\n",
       "      <td>NaN</td>\n",
       "      <td>NaN</td>\n",
       "      <td>NaN</td>\n",
       "      <td>...</td>\n",
       "      <td>Personal</td>\n",
       "      <td>NaN</td>\n",
       "      <td>2.0</td>\n",
       "      <td>0.0</td>\n",
       "      <td>0.0</td>\n",
       "      <td>0.0</td>\n",
       "      <td>IMC</td>\n",
       "      <td>Cruise</td>\n",
       "      <td>Probable Cause</td>\n",
       "      <td>12-09-2000</td>\n",
       "    </tr>\n",
       "    <tr>\n",
       "      <th>4</th>\n",
       "      <td>20041105X01764</td>\n",
       "      <td>Accident</td>\n",
       "      <td>CHI79FA064</td>\n",
       "      <td>1979-08-02</td>\n",
       "      <td>Canton, OH</td>\n",
       "      <td>United States</td>\n",
       "      <td>NaN</td>\n",
       "      <td>NaN</td>\n",
       "      <td>NaN</td>\n",
       "      <td>NaN</td>\n",
       "      <td>...</td>\n",
       "      <td>Personal</td>\n",
       "      <td>NaN</td>\n",
       "      <td>1.0</td>\n",
       "      <td>2.0</td>\n",
       "      <td>NaN</td>\n",
       "      <td>0.0</td>\n",
       "      <td>VMC</td>\n",
       "      <td>Approach</td>\n",
       "      <td>Probable Cause</td>\n",
       "      <td>16-04-1980</td>\n",
       "    </tr>\n",
       "  </tbody>\n",
       "</table>\n",
       "<p>5 rows × 31 columns</p>\n",
       "</div>"
      ],
      "text/plain": [
       "         Event Id Investigation Type Accident Number  Event Date  \\\n",
       "0  20001218X45444           Accident      SEA87LA080  1948-10-24   \n",
       "1  20001218X45447           Accident      LAX94LA336  1962-07-19   \n",
       "2  20061025X01555           Accident      NYC07LA005  1974-08-30   \n",
       "3  20001218X45448           Accident      LAX96LA321  1977-06-19   \n",
       "4  20041105X01764           Accident      CHI79FA064  1979-08-02   \n",
       "\n",
       "          Location        Country   Latitude   Longitude Airport Code  \\\n",
       "0  MOOSE CREEK, ID  United States        NaN         NaN          NaN   \n",
       "1   BRIDGEPORT, CA  United States        NaN         NaN          NaN   \n",
       "2    Saltville, VA  United States  36.922223  -81.878056          NaN   \n",
       "3       EUREKA, CA  United States        NaN         NaN          NaN   \n",
       "4       Canton, OH  United States        NaN         NaN          NaN   \n",
       "\n",
       "  Airport Name  ... Purpose of flight Air carrier Total Fatal Injuries  \\\n",
       "0          NaN  ...          Personal         NaN                  2.0   \n",
       "1          NaN  ...          Personal         NaN                  4.0   \n",
       "2          NaN  ...          Personal         NaN                  3.0   \n",
       "3          NaN  ...          Personal         NaN                  2.0   \n",
       "4          NaN  ...          Personal         NaN                  1.0   \n",
       "\n",
       "  Total Serious Injuries Total Minor Injuries Total Uninjured  \\\n",
       "0                    0.0                  0.0             0.0   \n",
       "1                    0.0                  0.0             0.0   \n",
       "2                    NaN                  NaN             NaN   \n",
       "3                    0.0                  0.0             0.0   \n",
       "4                    2.0                  NaN             0.0   \n",
       "\n",
       "  Weather Condition  Broad phase of flight   Report Status Publication Date  \n",
       "0               UNK                 Cruise  Probable Cause              NaN  \n",
       "1               UNK                Unknown  Probable Cause       19-09-1996  \n",
       "2               IMC                 Cruise  Probable Cause       26-02-2007  \n",
       "3               IMC                 Cruise  Probable Cause       12-09-2000  \n",
       "4               VMC               Approach  Probable Cause       16-04-1980  \n",
       "\n",
       "[5 rows x 31 columns]"
      ]
     },
     "execution_count": 68,
     "metadata": {},
     "output_type": "execute_result"
    }
   ],
   "source": [
    "# Replacing \".\" in the name with a space.\n",
    "df.columns = df.columns.str.replace(\".\",\" \")\n",
    "df.head()"
   ]
  },
  {
   "cell_type": "markdown",
   "metadata": {},
   "source": [
    "Let's see our dataset information, that will allow us to answer to the questions:\n",
    "-  What are all of our columns label?\n",
    "-  What is the size of the dataset?\n",
    "-  Do we have missing values?"
   ]
  },
  {
   "cell_type": "code",
   "execution_count": 69,
   "metadata": {},
   "outputs": [
    {
     "name": "stdout",
     "output_type": "stream",
     "text": [
      "<class 'pandas.core.frame.DataFrame'>\n",
      "RangeIndex: 90348 entries, 0 to 90347\n",
      "Data columns (total 31 columns):\n",
      " #   Column                  Non-Null Count  Dtype  \n",
      "---  ------                  --------------  -----  \n",
      " 0   Event Id                88889 non-null  object \n",
      " 1   Investigation Type      90348 non-null  object \n",
      " 2   Accident Number         88889 non-null  object \n",
      " 3   Event Date              88889 non-null  object \n",
      " 4   Location                88837 non-null  object \n",
      " 5   Country                 88663 non-null  object \n",
      " 6   Latitude                34382 non-null  object \n",
      " 7   Longitude               34373 non-null  object \n",
      " 8   Airport Code            50249 non-null  object \n",
      " 9   Airport Name            52790 non-null  object \n",
      " 10  Injury Severity         87889 non-null  object \n",
      " 11  Aircraft damage         85695 non-null  object \n",
      " 12  Aircraft Category       32287 non-null  object \n",
      " 13  Registration Number     87572 non-null  object \n",
      " 14  Make                    88826 non-null  object \n",
      " 15  Model                   88797 non-null  object \n",
      " 16  Amateur Built           88787 non-null  object \n",
      " 17  Number of Engines       82805 non-null  float64\n",
      " 18  Engine Type             81812 non-null  object \n",
      " 19  FAR Description         32023 non-null  object \n",
      " 20  Schedule                12582 non-null  object \n",
      " 21  Purpose of flight       82697 non-null  object \n",
      " 22  Air carrier             16648 non-null  object \n",
      " 23  Total Fatal Injuries    77488 non-null  float64\n",
      " 24  Total Serious Injuries  76379 non-null  float64\n",
      " 25  Total Minor Injuries    76956 non-null  float64\n",
      " 26  Total Uninjured         82977 non-null  float64\n",
      " 27  Weather Condition       84397 non-null  object \n",
      " 28  Broad phase of flight   61724 non-null  object \n",
      " 29  Report Status           82508 non-null  object \n",
      " 30  Publication Date        73659 non-null  object \n",
      "dtypes: float64(5), object(26)\n",
      "memory usage: 21.4+ MB\n"
     ]
    }
   ],
   "source": [
    "df.info()"
   ]
  },
  {
   "cell_type": "markdown",
   "metadata": {},
   "source": [
    "Before saying that we have 90348 records in our dataset, let us check for duplicated values."
   ]
  },
  {
   "cell_type": "code",
   "execution_count": 70,
   "metadata": {},
   "outputs": [
    {
     "data": {
      "text/plain": [
       "1390"
      ]
     },
     "execution_count": 70,
     "metadata": {},
     "output_type": "execute_result"
    }
   ],
   "source": [
    "# Checking for duplicated values\n",
    "df.duplicated().sum()"
   ]
  },
  {
   "cell_type": "markdown",
   "metadata": {},
   "source": [
    "We have 1390 duplicated values, let us remove them."
   ]
  },
  {
   "cell_type": "code",
   "execution_count": 71,
   "metadata": {},
   "outputs": [
    {
     "data": {
      "text/plain": [
       "0"
      ]
     },
     "execution_count": 71,
     "metadata": {},
     "output_type": "execute_result"
    }
   ],
   "source": [
    "# Remove duplicates and validation\n",
    "df.drop_duplicates(inplace=True)\n",
    "df.duplicated().sum()"
   ]
  },
  {
   "cell_type": "code",
   "execution_count": 72,
   "metadata": {},
   "outputs": [
    {
     "name": "stdout",
     "output_type": "stream",
     "text": [
      "<class 'pandas.core.frame.DataFrame'>\n",
      "Int64Index: 88958 entries, 0 to 90347\n",
      "Data columns (total 31 columns):\n",
      " #   Column                  Non-Null Count  Dtype  \n",
      "---  ------                  --------------  -----  \n",
      " 0   Event Id                88889 non-null  object \n",
      " 1   Investigation Type      88958 non-null  object \n",
      " 2   Accident Number         88889 non-null  object \n",
      " 3   Event Date              88889 non-null  object \n",
      " 4   Location                88837 non-null  object \n",
      " 5   Country                 88663 non-null  object \n",
      " 6   Latitude                34382 non-null  object \n",
      " 7   Longitude               34373 non-null  object \n",
      " 8   Airport Code            50249 non-null  object \n",
      " 9   Airport Name            52790 non-null  object \n",
      " 10  Injury Severity         87889 non-null  object \n",
      " 11  Aircraft damage         85695 non-null  object \n",
      " 12  Aircraft Category       32287 non-null  object \n",
      " 13  Registration Number     87572 non-null  object \n",
      " 14  Make                    88826 non-null  object \n",
      " 15  Model                   88797 non-null  object \n",
      " 16  Amateur Built           88787 non-null  object \n",
      " 17  Number of Engines       82805 non-null  float64\n",
      " 18  Engine Type             81812 non-null  object \n",
      " 19  FAR Description         32023 non-null  object \n",
      " 20  Schedule                12582 non-null  object \n",
      " 21  Purpose of flight       82697 non-null  object \n",
      " 22  Air carrier             16648 non-null  object \n",
      " 23  Total Fatal Injuries    77488 non-null  float64\n",
      " 24  Total Serious Injuries  76379 non-null  float64\n",
      " 25  Total Minor Injuries    76956 non-null  float64\n",
      " 26  Total Uninjured         82977 non-null  float64\n",
      " 27  Weather Condition       84397 non-null  object \n",
      " 28  Broad phase of flight   61724 non-null  object \n",
      " 29  Report Status           82508 non-null  object \n",
      " 30  Publication Date        73659 non-null  object \n",
      "dtypes: float64(5), object(26)\n",
      "memory usage: 21.7+ MB\n"
     ]
    }
   ],
   "source": [
    "df.info()"
   ]
  },
  {
   "cell_type": "markdown",
   "metadata": {},
   "source": [
    "Now we can say that we have 88958 distinct records, 30 columns with several missing values.  Let's see them by column name."
   ]
  },
  {
   "cell_type": "code",
   "execution_count": 73,
   "metadata": {},
   "outputs": [
    {
     "data": {
      "text/plain": [
       "Event Id                     69\n",
       "Investigation Type            0\n",
       "Accident Number              69\n",
       "Event Date                   69\n",
       "Location                    121\n",
       "Country                     295\n",
       "Latitude                  54576\n",
       "Longitude                 54585\n",
       "Airport Code              38709\n",
       "Airport Name              36168\n",
       "Injury Severity            1069\n",
       "Aircraft damage            3263\n",
       "Aircraft Category         56671\n",
       "Registration Number        1386\n",
       "Make                        132\n",
       "Model                       161\n",
       "Amateur Built               171\n",
       "Number of Engines          6153\n",
       "Engine Type                7146\n",
       "FAR Description           56935\n",
       "Schedule                  76376\n",
       "Purpose of flight          6261\n",
       "Air carrier               72310\n",
       "Total Fatal Injuries      11470\n",
       "Total Serious Injuries    12579\n",
       "Total Minor Injuries      12002\n",
       "Total Uninjured            5981\n",
       "Weather Condition          4561\n",
       "Broad phase of flight     27234\n",
       "Report Status              6450\n",
       "Publication Date          15299\n",
       "dtype: int64"
      ]
     },
     "execution_count": 73,
     "metadata": {},
     "output_type": "execute_result"
    }
   ],
   "source": [
    "# missing values by column name\n",
    "df.isna().sum() #/df.isna().count())*100\n"
   ]
  },
  {
   "cell_type": "markdown",
   "metadata": {},
   "source": [
    "We are already noticing big problems here, we have variable with 60% to 85% of missing values, which is a lot by variable. lets us treat them separately, starting with the leading variable Aircraft Category."
   ]
  },
  {
   "cell_type": "markdown",
   "metadata": {},
   "source": [
    " 64% of data of Aircraft Category column are missing, as it is a decisive variable, let's us see it's values"
   ]
  },
  {
   "cell_type": "code",
   "execution_count": 74,
   "metadata": {
    "scrolled": true
   },
   "outputs": [
    {
     "data": {
      "text/plain": [
       "Airplane             27617\n",
       "Helicopter            3440\n",
       "Glider                 508\n",
       "Balloon                231\n",
       "Gyrocraft              173\n",
       "Weight-Shift           161\n",
       "Powered Parachute       91\n",
       "Ultralight              30\n",
       "Unknown                 14\n",
       "WSFT                     9\n",
       "Powered-Lift             5\n",
       "Blimp                    4\n",
       "UNK                      2\n",
       "Rocket                   1\n",
       "ULTR                     1\n",
       "Name: Aircraft Category, dtype: int64"
      ]
     },
     "execution_count": 74,
     "metadata": {},
     "output_type": "execute_result"
    }
   ],
   "source": [
    "df['Aircraft Category'].value_counts()"
   ]
  },
  {
   "cell_type": "markdown",
   "metadata": {},
   "source": [
    "As there is an 'Unknown' Category, let's fusion the NaNs with this category, as they are also unknown."
   ]
  },
  {
   "cell_type": "code",
   "execution_count": 75,
   "metadata": {
    "scrolled": true
   },
   "outputs": [
    {
     "data": {
      "text/plain": [
       "Unknown              56685\n",
       "Airplane             27617\n",
       "Helicopter            3440\n",
       "Glider                 508\n",
       "Balloon                231\n",
       "Gyrocraft              173\n",
       "Weight-Shift           161\n",
       "Powered Parachute       91\n",
       "Ultralight              30\n",
       "WSFT                     9\n",
       "Powered-Lift             5\n",
       "Blimp                    4\n",
       "UNK                      2\n",
       "Rocket                   1\n",
       "ULTR                     1\n",
       "Name: Aircraft Category, dtype: int64"
      ]
     },
     "execution_count": 75,
     "metadata": {},
     "output_type": "execute_result"
    }
   ],
   "source": [
    "# Replacing all NaN values in Aircraft.Category with 'Null Category'\n",
    "df['Aircraft Category'].fillna('Unknown',inplace=True)\n",
    "df['Aircraft Category'].value_counts()\n"
   ]
  },
  {
   "cell_type": "markdown",
   "metadata": {},
   "source": [
    "Now, let us drop all the rows with less than 1% of missing data by column, but before let us take a look at the Make column"
   ]
  },
  {
   "cell_type": "code",
   "execution_count": 76,
   "metadata": {},
   "outputs": [
    {
     "data": {
      "text/plain": [
       "Cessna               22227\n",
       "Piper                12029\n",
       "CESSNA                4922\n",
       "Beech                 4330\n",
       "PIPER                 2841\n",
       "Bell                  2134\n",
       "Boeing                1594\n",
       "BOEING                1151\n",
       "Grumman               1094\n",
       "Mooney                1092\n",
       "BEECH                 1042\n",
       "Robinson               946\n",
       "Bellanca               886\n",
       "Hughes                 795\n",
       "Schweizer              629\n",
       "Air Tractor            595\n",
       "BELL                   588\n",
       "Mcdonnell Douglas      526\n",
       "Aeronca                487\n",
       "Maule                  445\n",
       "Name: Make, dtype: int64"
      ]
     },
     "execution_count": 76,
     "metadata": {},
     "output_type": "execute_result"
    }
   ],
   "source": [
    "df['Make'].value_counts()[:20]"
   ]
  },
  {
   "cell_type": "markdown",
   "metadata": {},
   "source": [
    "We see some incoherences in the formating, Let'us fix it."
   ]
  },
  {
   "cell_type": "code",
   "execution_count": 77,
   "metadata": {},
   "outputs": [],
   "source": [
    "df['Make'] = df['Make'].str.title()"
   ]
  },
  {
   "cell_type": "code",
   "execution_count": 78,
   "metadata": {},
   "outputs": [],
   "source": [
    "df.dropna(axis =0, subset= ['Event Id','Location','Country','Accident Number','Event Date','Make','Model','Amateur Built'], inplace=True)"
   ]
  },
  {
   "cell_type": "code",
   "execution_count": 79,
   "metadata": {},
   "outputs": [
    {
     "data": {
      "text/plain": [
       "Event Id                      0\n",
       "Investigation Type            0\n",
       "Accident Number               0\n",
       "Event Date                    0\n",
       "Location                      0\n",
       "Country                       0\n",
       "Latitude                  54094\n",
       "Longitude                 54103\n",
       "Airport Code              38271\n",
       "Airport Name              35751\n",
       "Injury Severity             979\n",
       "Aircraft damage            3134\n",
       "Aircraft Category             0\n",
       "Registration Number        1185\n",
       "Make                          0\n",
       "Model                         0\n",
       "Amateur Built                 0\n",
       "Number of Engines          5913\n",
       "Engine Type                6921\n",
       "FAR Description           56509\n",
       "Schedule                  76060\n",
       "Purpose of flight          6060\n",
       "Air carrier               71856\n",
       "Total Fatal Injuries      11299\n",
       "Total Serious Injuries    12378\n",
       "Total Minor Injuries      11797\n",
       "Total Uninjured            5813\n",
       "Weather Condition          4375\n",
       "Broad phase of flight     26970\n",
       "Report Status              6335\n",
       "Publication Date          15145\n",
       "dtype: int64"
      ]
     },
     "execution_count": 79,
     "metadata": {},
     "output_type": "execute_result"
    }
   ],
   "source": [
    "df.isna().sum()  #/df.isna().count())*100"
   ]
  },
  {
   "cell_type": "markdown",
   "metadata": {},
   "source": [
    "Also, let's us drop the columns with too many NaNs, more than 60%"
   ]
  },
  {
   "cell_type": "code",
   "execution_count": 80,
   "metadata": {},
   "outputs": [],
   "source": [
    "#  Drop the columns with more than 60% NaNs\n",
    "df.drop(['Schedule','Air carrier','FAR Description','Latitude','Longitude'],axis =1, inplace =True)"
   ]
  },
  {
   "cell_type": "markdown",
   "metadata": {},
   "source": [
    "Now let's us drop columns that won't serve this analysis as Airport code or Airport Name or Registration Number Columns."
   ]
  },
  {
   "cell_type": "code",
   "execution_count": 81,
   "metadata": {},
   "outputs": [],
   "source": [
    "df.drop(['Airport Code','Airport Name','Registration Number','Publication Date'],axis =1, inplace =True)"
   ]
  },
  {
   "cell_type": "code",
   "execution_count": 82,
   "metadata": {},
   "outputs": [
    {
     "data": {
      "text/plain": [
       "Event Id                   0.000000\n",
       "Investigation Type         0.000000\n",
       "Accident Number            0.000000\n",
       "Event Date                 0.000000\n",
       "Location                   0.000000\n",
       "Country                    0.000000\n",
       "Injury Severity            1.107391\n",
       "Aircraft damage            3.545008\n",
       "Aircraft Category          0.000000\n",
       "Make                       0.000000\n",
       "Model                      0.000000\n",
       "Amateur Built              0.000000\n",
       "Number of Engines          6.688460\n",
       "Engine Type                7.828654\n",
       "Purpose of flight          6.854738\n",
       "Total Fatal Injuries      12.780807\n",
       "Total Serious Injuries    14.001312\n",
       "Total Minor Injuries      13.344117\n",
       "Total Uninjured            6.575346\n",
       "Weather Condition          4.948759\n",
       "Broad phase of flight     30.506979\n",
       "Report Status              7.165803\n",
       "dtype: float64"
      ]
     },
     "execution_count": 82,
     "metadata": {},
     "output_type": "execute_result"
    }
   ],
   "source": [
    "(df.isna().sum()/df.isna().count())*100"
   ]
  },
  {
   "cell_type": "markdown",
   "metadata": {},
   "source": [
    "Things are starting to look great, let us treat the remaining columns with missing values individually. As we don't want to modify in a certain way the data, if one of the column category is 'Unknown' or 'Unavailable', we will merge the NaNs with the value of this column. "
   ]
  },
  {
   "cell_type": "code",
   "execution_count": 83,
   "metadata": {},
   "outputs": [
    {
     "data": {
      "text/plain": [
       "array(['Fatal(2)', 'Fatal(4)', 'Fatal(3)', 'Fatal(1)', 'Non-Fatal',\n",
       "       'Incident', 'Fatal(8)', 'Fatal(78)', 'Fatal(7)', 'Fatal(6)',\n",
       "       'Fatal(5)', 'Fatal(153)', 'Fatal(12)', 'Fatal(14)', 'Fatal(23)',\n",
       "       'Fatal(10)', 'Fatal(11)', 'Fatal(17)', 'Fatal(13)', 'Fatal(29)',\n",
       "       'Fatal(70)', 'Fatal(9)', 'Unavailable', 'Fatal(135)', 'Fatal(31)',\n",
       "       'Fatal(256)', 'Fatal(25)', 'Fatal(82)', 'Fatal(156)', 'Fatal(28)',\n",
       "       'Fatal(18)', 'Fatal(43)', 'Fatal(270)', 'Fatal(144)', 'Fatal(174)',\n",
       "       'Fatal(111)', 'Fatal(131)', 'Fatal(20)', 'Fatal(73)', 'Fatal(27)',\n",
       "       'Fatal(34)', 'Fatal(87)', 'Fatal(30)', 'Fatal(16)', 'Fatal(47)',\n",
       "       'Fatal(56)', 'Fatal(37)', 'Fatal(132)', 'Fatal(68)', 'Fatal(15)',\n",
       "       'Fatal(54)', 'Fatal(52)', 'Fatal(65)', 'Fatal(72)', 'Fatal(160)',\n",
       "       'Fatal(189)', 'Fatal(123)', 'Fatal(33)', 'Fatal(110)',\n",
       "       'Fatal(230)', 'Fatal(97)', 'Fatal(349)', 'Fatal(125)', 'Fatal(35)',\n",
       "       'Fatal(228)', 'Fatal(75)', 'Fatal(104)', 'Fatal(229)', 'Fatal(80)',\n",
       "       'Fatal(217)', 'Fatal(169)', 'Fatal(88)', 'Fatal(19)', 'Fatal(60)',\n",
       "       'Fatal(113)', 'Fatal(143)', 'Fatal(83)', 'Fatal(24)', 'Fatal(44)',\n",
       "       'Fatal(64)', 'Fatal(92)', 'Fatal(118)', 'Fatal(265)', 'Fatal(26)',\n",
       "       'Fatal(138)', 'Fatal(206)', 'Fatal(71)', 'Fatal(21)', 'Fatal(46)',\n",
       "       'Fatal(102)', 'Fatal(115)', 'Fatal(141)', 'Fatal(55)',\n",
       "       'Fatal(121)', 'Fatal(45)', 'Fatal(145)', 'Fatal(117)',\n",
       "       'Fatal(107)', 'Fatal(124)', 'Fatal(49)', 'Fatal(154)', 'Fatal(96)',\n",
       "       'Fatal(199)', 'Fatal(89)', 'Fatal', nan, 'Minor', 'Serious'],\n",
       "      dtype=object)"
      ]
     },
     "execution_count": 83,
     "metadata": {},
     "output_type": "execute_result"
    }
   ],
   "source": [
    "df['Injury Severity'].unique()"
   ]
  },
  {
   "cell_type": "markdown",
   "metadata": {},
   "source": [
    "As there is an 'Unavailable' label, let's us fill the NaNs with that too as both categories look the same for us in our analysis."
   ]
  },
  {
   "cell_type": "code",
   "execution_count": 84,
   "metadata": {},
   "outputs": [],
   "source": [
    "df['Injury Severity'].fillna('Unavailable',inplace=True)"
   ]
  },
  {
   "cell_type": "code",
   "execution_count": 85,
   "metadata": {},
   "outputs": [
    {
     "data": {
      "text/plain": [
       "Substantial    63944\n",
       "Destroyed      18459\n",
       "Minor           2750\n",
       "Unknown          119\n",
       "Name: Aircraft damage, dtype: int64"
      ]
     },
     "execution_count": 85,
     "metadata": {},
     "output_type": "execute_result"
    }
   ],
   "source": [
    "# Aircraft Damage values\n",
    "df['Aircraft damage'].value_counts()"
   ]
  },
  {
   "cell_type": "code",
   "execution_count": 86,
   "metadata": {},
   "outputs": [],
   "source": [
    "# Fill Aircraft Damage 3263 null values\n",
    "df['Aircraft damage'].fillna('Unknown',inplace=True)"
   ]
  },
  {
   "cell_type": "code",
   "execution_count": 87,
   "metadata": {},
   "outputs": [
    {
     "data": {
      "text/plain": [
       "1.0    0.841017\n",
       "2.0    0.133223\n",
       "0.0    0.014789\n",
       "3.0    0.005770\n",
       "4.0    0.005152\n",
       "8.0    0.000036\n",
       "6.0    0.000012\n",
       "Name: Number of Engines, dtype: float64"
      ]
     },
     "execution_count": 87,
     "metadata": {},
     "output_type": "execute_result"
    }
   ],
   "source": [
    "df['Number of Engines'].value_counts(normalize = True)"
   ]
  },
  {
   "cell_type": "code",
   "execution_count": 88,
   "metadata": {},
   "outputs": [
    {
     "data": {
      "text/plain": [
       "1.0"
      ]
     },
     "execution_count": 88,
     "metadata": {},
     "output_type": "execute_result"
    }
   ],
   "source": [
    "df['Number of Engines'].median()"
   ]
  },
  {
   "cell_type": "code",
   "execution_count": 89,
   "metadata": {},
   "outputs": [],
   "source": [
    "df['Number of Engines'].fillna(df['Number of Engines'].median(), inplace=True)"
   ]
  },
  {
   "cell_type": "code",
   "execution_count": 90,
   "metadata": {},
   "outputs": [
    {
     "data": {
      "text/plain": [
       "1.0    75291\n",
       "2.0    10990\n",
       "0.0     1220\n",
       "3.0      476\n",
       "4.0      425\n",
       "8.0        3\n",
       "6.0        1\n",
       "Name: Number of Engines, dtype: int64"
      ]
     },
     "execution_count": 90,
     "metadata": {},
     "output_type": "execute_result"
    }
   ],
   "source": [
    "df['Number of Engines'].value_counts()"
   ]
  },
  {
   "cell_type": "code",
   "execution_count": 91,
   "metadata": {},
   "outputs": [
    {
     "data": {
      "text/plain": [
       "Reciprocating      0.851236\n",
       "Turbo Shaft        0.043186\n",
       "Turbo Prop         0.041455\n",
       "Turbo Fan          0.030214\n",
       "Unknown            0.024728\n",
       "Turbo Jet          0.008603\n",
       "None               0.000233\n",
       "Geared Turbofan    0.000147\n",
       "Electric           0.000123\n",
       "LR                 0.000025\n",
       "NONE               0.000025\n",
       "UNK                0.000012\n",
       "Hybrid Rocket      0.000012\n",
       "Name: Engine Type, dtype: float64"
      ]
     },
     "execution_count": 91,
     "metadata": {},
     "output_type": "execute_result"
    }
   ],
   "source": [
    "df['Engine Type'].value_counts(normalize = True)"
   ]
  },
  {
   "cell_type": "code",
   "execution_count": 92,
   "metadata": {},
   "outputs": [],
   "source": [
    "df['Engine Type'].fillna('Unknown',inplace=True)"
   ]
  },
  {
   "cell_type": "code",
   "execution_count": 93,
   "metadata": {},
   "outputs": [
    {
     "data": {
      "text/plain": [
       "Personal                     0.599094\n",
       "Instructional                0.128507\n",
       "Unknown                      0.080878\n",
       "Aerial Application           0.057198\n",
       "Business                     0.048576\n",
       "Positioning                  0.019746\n",
       "Other Work Use               0.015289\n",
       "Ferry                        0.009764\n",
       "Aerial Observation           0.009533\n",
       "Public Aircraft              0.008719\n",
       "Executive/corporate          0.006631\n",
       "Flight Test                  0.004894\n",
       "Skydiving                    0.002210\n",
       "External Load                0.001494\n",
       "Public Aircraft - Federal    0.001263\n",
       "Banner Tow                   0.001227\n",
       "Air Race show                0.001202\n",
       "Public Aircraft - Local      0.000899\n",
       "Public Aircraft - State      0.000765\n",
       "Air Race/show                0.000716\n",
       "Glider Tow                   0.000644\n",
       "Firefighting                 0.000486\n",
       "Air Drop                     0.000134\n",
       "ASHO                         0.000073\n",
       "PUBS                         0.000049\n",
       "PUBL                         0.000012\n",
       "Name: Purpose of flight, dtype: float64"
      ]
     },
     "execution_count": 93,
     "metadata": {},
     "output_type": "execute_result"
    }
   ],
   "source": [
    "df['Purpose of flight'].value_counts(normalize = True)"
   ]
  },
  {
   "cell_type": "code",
   "execution_count": 94,
   "metadata": {},
   "outputs": [],
   "source": [
    "df['Purpose of flight'].fillna('Unknown',inplace=True)"
   ]
  },
  {
   "cell_type": "code",
   "execution_count": 95,
   "metadata": {},
   "outputs": [],
   "source": [
    "df['Total Fatal Injuries'].fillna(df['Total Fatal Injuries'].median(), inplace=True)"
   ]
  },
  {
   "cell_type": "code",
   "execution_count": 96,
   "metadata": {},
   "outputs": [],
   "source": [
    "df['Total Minor Injuries'].fillna(df['Total Minor Injuries'].median(), inplace=True)"
   ]
  },
  {
   "cell_type": "code",
   "execution_count": 97,
   "metadata": {},
   "outputs": [],
   "source": [
    "df['Total Serious Injuries'].fillna(df['Total Serious Injuries'].median(), inplace=True)"
   ]
  },
  {
   "cell_type": "code",
   "execution_count": 98,
   "metadata": {},
   "outputs": [],
   "source": [
    "df['Total Uninjured'].fillna(df['Total Uninjured'].median(), inplace=True)"
   ]
  },
  {
   "cell_type": "code",
   "execution_count": 99,
   "metadata": {},
   "outputs": [
    {
     "data": {
      "text/plain": [
       "VMC    76999\n",
       "IMC     5947\n",
       "UNK      823\n",
       "Unk      262\n",
       "Name: Weather Condition, dtype: int64"
      ]
     },
     "execution_count": 99,
     "metadata": {},
     "output_type": "execute_result"
    }
   ],
   "source": [
    "df['Weather Condition'].value_counts() #(normalize = True) #fillna('Unknown',inplace=True)"
   ]
  },
  {
   "cell_type": "code",
   "execution_count": 100,
   "metadata": {},
   "outputs": [],
   "source": [
    "df['Weather Condition'] = df['Weather Condition'].str.upper()"
   ]
  },
  {
   "cell_type": "code",
   "execution_count": 101,
   "metadata": {},
   "outputs": [
    {
     "data": {
      "text/plain": [
       "VMC    76999\n",
       "IMC     5947\n",
       "UNK     1085\n",
       "Name: Weather Condition, dtype: int64"
      ]
     },
     "execution_count": 101,
     "metadata": {},
     "output_type": "execute_result"
    }
   ],
   "source": [
    "df['Weather Condition'].value_counts()"
   ]
  },
  {
   "cell_type": "code",
   "execution_count": 102,
   "metadata": {},
   "outputs": [
    {
     "data": {
      "text/plain": [
       "0    VMC\n",
       "dtype: object"
      ]
     },
     "execution_count": 102,
     "metadata": {},
     "output_type": "execute_result"
    }
   ],
   "source": [
    "df['Weather Condition'].mode()"
   ]
  },
  {
   "cell_type": "code",
   "execution_count": 103,
   "metadata": {},
   "outputs": [],
   "source": [
    "df['Weather Condition'].fillna('VMC', inplace=True)"
   ]
  },
  {
   "cell_type": "code",
   "execution_count": 104,
   "metadata": {},
   "outputs": [
    {
     "data": {
      "text/plain": [
       "Landing        0.250374\n",
       "Takeoff        0.202406\n",
       "Cruise         0.166124\n",
       "Maneuvering    0.132056\n",
       "Approach       0.106078\n",
       "Climb          0.032847\n",
       "Taxi           0.031740\n",
       "Descent        0.030503\n",
       "Go-around      0.021990\n",
       "Standing       0.015203\n",
       "Unknown        0.008741\n",
       "Other          0.001937\n",
       "Name: Broad phase of flight, dtype: float64"
      ]
     },
     "execution_count": 104,
     "metadata": {},
     "output_type": "execute_result"
    }
   ],
   "source": [
    "df['Broad phase of flight'].value_counts(normalize = True) #'Broad phase of flight'"
   ]
  },
  {
   "cell_type": "code",
   "execution_count": 105,
   "metadata": {},
   "outputs": [],
   "source": [
    "df['Broad phase of flight'].fillna('Unknown',inplace=True)"
   ]
  },
  {
   "cell_type": "code",
   "execution_count": 106,
   "metadata": {},
   "outputs": [
    {
     "data": {
      "text/plain": [
       "0    Probable Cause\n",
       "dtype: object"
      ]
     },
     "execution_count": 106,
     "metadata": {},
     "output_type": "execute_result"
    }
   ],
   "source": [
    "df['Report Status'].mode()"
   ]
  },
  {
   "cell_type": "code",
   "execution_count": 107,
   "metadata": {},
   "outputs": [],
   "source": [
    "df['Report Status'].fillna('Probable Cause', inplace=True)"
   ]
  },
  {
   "cell_type": "code",
   "execution_count": 108,
   "metadata": {},
   "outputs": [
    {
     "data": {
      "text/plain": [
       "Event Id                  0\n",
       "Investigation Type        0\n",
       "Accident Number           0\n",
       "Event Date                0\n",
       "Location                  0\n",
       "Country                   0\n",
       "Injury Severity           0\n",
       "Aircraft damage           0\n",
       "Aircraft Category         0\n",
       "Make                      0\n",
       "Model                     0\n",
       "Amateur Built             0\n",
       "Number of Engines         0\n",
       "Engine Type               0\n",
       "Purpose of flight         0\n",
       "Total Fatal Injuries      0\n",
       "Total Serious Injuries    0\n",
       "Total Minor Injuries      0\n",
       "Total Uninjured           0\n",
       "Weather Condition         0\n",
       "Broad phase of flight     0\n",
       "Report Status             0\n",
       "dtype: int64"
      ]
     },
     "execution_count": 108,
     "metadata": {},
     "output_type": "execute_result"
    }
   ],
   "source": [
    "df.isna().sum()"
   ]
  },
  {
   "cell_type": "markdown",
   "metadata": {},
   "source": [
    "We have handled all of our missing data. let's see how many rows per column we have left"
   ]
  },
  {
   "cell_type": "code",
   "execution_count": 109,
   "metadata": {},
   "outputs": [
    {
     "name": "stdout",
     "output_type": "stream",
     "text": [
      "<class 'pandas.core.frame.DataFrame'>\n",
      "Int64Index: 88406 entries, 0 to 90347\n",
      "Data columns (total 22 columns):\n",
      " #   Column                  Non-Null Count  Dtype  \n",
      "---  ------                  --------------  -----  \n",
      " 0   Event Id                88406 non-null  object \n",
      " 1   Investigation Type      88406 non-null  object \n",
      " 2   Accident Number         88406 non-null  object \n",
      " 3   Event Date              88406 non-null  object \n",
      " 4   Location                88406 non-null  object \n",
      " 5   Country                 88406 non-null  object \n",
      " 6   Injury Severity         88406 non-null  object \n",
      " 7   Aircraft damage         88406 non-null  object \n",
      " 8   Aircraft Category       88406 non-null  object \n",
      " 9   Make                    88406 non-null  object \n",
      " 10  Model                   88406 non-null  object \n",
      " 11  Amateur Built           88406 non-null  object \n",
      " 12  Number of Engines       88406 non-null  float64\n",
      " 13  Engine Type             88406 non-null  object \n",
      " 14  Purpose of flight       88406 non-null  object \n",
      " 15  Total Fatal Injuries    88406 non-null  float64\n",
      " 16  Total Serious Injuries  88406 non-null  float64\n",
      " 17  Total Minor Injuries    88406 non-null  float64\n",
      " 18  Total Uninjured         88406 non-null  float64\n",
      " 19  Weather Condition       88406 non-null  object \n",
      " 20  Broad phase of flight   88406 non-null  object \n",
      " 21  Report Status           88406 non-null  object \n",
      "dtypes: float64(5), object(17)\n",
      "memory usage: 15.5+ MB\n"
     ]
    }
   ],
   "source": [
    "df.info()"
   ]
  },
  {
   "cell_type": "markdown",
   "metadata": {},
   "source": [
    "We had 88958 distinct rows and after cleaning missing data, we have 88406 remaining rows per columns, we only removed 552 rows and 9 irrelevant columns to us to clean our data, which is good. Let's move on."
   ]
  },
  {
   "cell_type": "code",
   "execution_count": null,
   "metadata": {},
   "outputs": [],
   "source": []
  },
  {
   "cell_type": "markdown",
   "metadata": {},
   "source": [
    "## Exploratory and Analysis "
   ]
  },
  {
   "cell_type": "markdown",
   "metadata": {},
   "source": [
    "Let's see some indicators for our numerical variables"
   ]
  },
  {
   "cell_type": "code",
   "execution_count": 119,
   "metadata": {},
   "outputs": [
    {
     "data": {
      "text/html": [
       "<div>\n",
       "<style scoped>\n",
       "    .dataframe tbody tr th:only-of-type {\n",
       "        vertical-align: middle;\n",
       "    }\n",
       "\n",
       "    .dataframe tbody tr th {\n",
       "        vertical-align: top;\n",
       "    }\n",
       "\n",
       "    .dataframe thead th {\n",
       "        text-align: right;\n",
       "    }\n",
       "</style>\n",
       "<table border=\"1\" class=\"dataframe\">\n",
       "  <thead>\n",
       "    <tr style=\"text-align: right;\">\n",
       "      <th></th>\n",
       "      <th>Number of Engines</th>\n",
       "      <th>Total Fatal Injuries</th>\n",
       "      <th>Total Serious Injuries</th>\n",
       "      <th>Total Minor Injuries</th>\n",
       "      <th>Total Uninjured</th>\n",
       "    </tr>\n",
       "  </thead>\n",
       "  <tbody>\n",
       "    <tr>\n",
       "      <th>count</th>\n",
       "      <td>88406.000000</td>\n",
       "      <td>88406.000000</td>\n",
       "      <td>88406.000000</td>\n",
       "      <td>88406.000000</td>\n",
       "      <td>88406.000000</td>\n",
       "    </tr>\n",
       "    <tr>\n",
       "      <th>mean</th>\n",
       "      <td>1.135998</td>\n",
       "      <td>0.558152</td>\n",
       "      <td>0.239712</td>\n",
       "      <td>0.308791</td>\n",
       "      <td>5.011990</td>\n",
       "    </tr>\n",
       "    <tr>\n",
       "      <th>std</th>\n",
       "      <td>0.431704</td>\n",
       "      <td>5.090423</td>\n",
       "      <td>1.429433</td>\n",
       "      <td>2.087133</td>\n",
       "      <td>26.913973</td>\n",
       "    </tr>\n",
       "    <tr>\n",
       "      <th>min</th>\n",
       "      <td>0.000000</td>\n",
       "      <td>0.000000</td>\n",
       "      <td>0.000000</td>\n",
       "      <td>0.000000</td>\n",
       "      <td>0.000000</td>\n",
       "    </tr>\n",
       "    <tr>\n",
       "      <th>25%</th>\n",
       "      <td>1.000000</td>\n",
       "      <td>0.000000</td>\n",
       "      <td>0.000000</td>\n",
       "      <td>0.000000</td>\n",
       "      <td>0.000000</td>\n",
       "    </tr>\n",
       "    <tr>\n",
       "      <th>50%</th>\n",
       "      <td>1.000000</td>\n",
       "      <td>0.000000</td>\n",
       "      <td>0.000000</td>\n",
       "      <td>0.000000</td>\n",
       "      <td>1.000000</td>\n",
       "    </tr>\n",
       "    <tr>\n",
       "      <th>75%</th>\n",
       "      <td>1.000000</td>\n",
       "      <td>0.000000</td>\n",
       "      <td>0.000000</td>\n",
       "      <td>0.000000</td>\n",
       "      <td>2.000000</td>\n",
       "    </tr>\n",
       "    <tr>\n",
       "      <th>max</th>\n",
       "      <td>8.000000</td>\n",
       "      <td>349.000000</td>\n",
       "      <td>161.000000</td>\n",
       "      <td>380.000000</td>\n",
       "      <td>699.000000</td>\n",
       "    </tr>\n",
       "  </tbody>\n",
       "</table>\n",
       "</div>"
      ],
      "text/plain": [
       "       Number of Engines  Total Fatal Injuries  Total Serious Injuries  \\\n",
       "count       88406.000000          88406.000000            88406.000000   \n",
       "mean            1.135998              0.558152                0.239712   \n",
       "std             0.431704              5.090423                1.429433   \n",
       "min             0.000000              0.000000                0.000000   \n",
       "25%             1.000000              0.000000                0.000000   \n",
       "50%             1.000000              0.000000                0.000000   \n",
       "75%             1.000000              0.000000                0.000000   \n",
       "max             8.000000            349.000000              161.000000   \n",
       "\n",
       "       Total Minor Injuries  Total Uninjured  \n",
       "count          88406.000000     88406.000000  \n",
       "mean               0.308791         5.011990  \n",
       "std                2.087133        26.913973  \n",
       "min                0.000000         0.000000  \n",
       "25%                0.000000         0.000000  \n",
       "50%                0.000000         1.000000  \n",
       "75%                0.000000         2.000000  \n",
       "max              380.000000       699.000000  "
      ]
     },
     "execution_count": 119,
     "metadata": {},
     "output_type": "execute_result"
    }
   ],
   "source": [
    "df.describe()"
   ]
  },
  {
   "cell_type": "markdown",
   "metadata": {},
   "source": [
    "We have 4 numerical variables, lets us see them by different categories"
   ]
  },
  {
   "cell_type": "code",
   "execution_count": 120,
   "metadata": {},
   "outputs": [],
   "source": [
    "ACI_TFI = df.groupby('Aircraft Category',sort=True).sum()['Total Fatal Injuries'].sort_values(ascending = False).index\n",
    "ACV_TFI = df.groupby('Aircraft Category',sort=True).sum()['Total Fatal Injuries'].sort_values(ascending = False).values"
   ]
  },
  {
   "cell_type": "code",
   "execution_count": 121,
   "metadata": {},
   "outputs": [
    {
     "data": {
      "text/plain": [
       "[]"
      ]
     },
     "execution_count": 121,
     "metadata": {},
     "output_type": "execute_result"
    },
    {
     "data": {
      "image/png": "[encoded data removed]",
      "text/plain": [
       "<Figure size 432x288 with 1 Axes>"
      ]
     },
     "metadata": {
      "needs_background": "light"
     },
     "output_type": "display_data"
    }
   ],
   "source": [
    "fig, ax = plt.subplots()\n",
    "ax.barh(ACI_TFI,ACV_TFI)\n",
    "ax.set_title('Total fatal injuries by Aircraft category')\n",
    "ax.set_xlabel('Total Fatal Injuries')\n",
    "ax.set_ylabel('Aircraft Category')\n",
    "\n",
    "plt.plot()"
   ]
  },
  {
   "cell_type": "code",
   "execution_count": 122,
   "metadata": {},
   "outputs": [],
   "source": [
    "ACI_TSI = df.groupby('Aircraft Category',sort=True).sum()['Total Serious Injuries'].sort_values(ascending = False).index\n",
    "ACV_TSI = df.groupby('Aircraft Category',sort=True).sum()['Total Serious Injuries'].sort_values(ascending = False).values"
   ]
  },
  {
   "cell_type": "code",
   "execution_count": 123,
   "metadata": {},
   "outputs": [
    {
     "data": {
      "image/png": "[encoded data removed]",
      "text/plain": [
       "<Figure size 432x288 with 1 Axes>"
      ]
     },
     "metadata": {
      "needs_background": "light"
     },
     "output_type": "display_data"
    }
   ],
   "source": [
    "fig, ax = plt.subplots()\n",
    "ax.barh(ACI_TSI,ACV_TSI)\n",
    "ax.set_title('Total serious injuries by Aircraft category')\n",
    "ax.set_xlabel('Total serious Injuries')\n",
    "ax.set_ylabel('Aircraft Category')\n",
    "\n",
    "plt.plot();"
   ]
  },
  {
   "cell_type": "code",
   "execution_count": 124,
   "metadata": {},
   "outputs": [],
   "source": [
    "ACI_TSI = df.groupby('Aircraft Category',sort=True).sum()['Total Minor Injuries'].sort_values(ascending = False).index\n",
    "ACV_TSI = df.groupby('Aircraft Category',sort=True).sum()['Total Minor Injuries'].sort_values(ascending = False).values"
   ]
  },
  {
   "cell_type": "code",
   "execution_count": 125,
   "metadata": {},
   "outputs": [
    {
     "data": {
      "text/plain": [
       "[]"
      ]
     },
     "execution_count": 125,
     "metadata": {},
     "output_type": "execute_result"
    },
    {
     "data": {
      "image/png": "[encoded data removed]",
      "text/plain": [
       "<Figure size 432x288 with 1 Axes>"
      ]
     },
     "metadata": {
      "needs_background": "light"
     },
     "output_type": "display_data"
    }
   ],
   "source": [
    "fig, ax = plt.subplots()\n",
    "ax.barh(ACI_TSI,ACV_TSI)\n",
    "ax.set_title('Total minor injuries by Aircraft category')\n",
    "ax.set_xlabel('Total minor Injuries')\n",
    "ax.set_ylabel('Aircraft Category')\n",
    "\n",
    "plt.plot()"
   ]
  },
  {
   "cell_type": "code",
   "execution_count": 126,
   "metadata": {},
   "outputs": [
    {
     "data": {
      "text/html": [
       "<div>\n",
       "<style scoped>\n",
       "    .dataframe tbody tr th:only-of-type {\n",
       "        vertical-align: middle;\n",
       "    }\n",
       "\n",
       "    .dataframe tbody tr th {\n",
       "        vertical-align: top;\n",
       "    }\n",
       "\n",
       "    .dataframe thead th {\n",
       "        text-align: right;\n",
       "    }\n",
       "</style>\n",
       "<table border=\"1\" class=\"dataframe\">\n",
       "  <thead>\n",
       "    <tr style=\"text-align: right;\">\n",
       "      <th></th>\n",
       "      <th>Number of Engines</th>\n",
       "      <th>Total Fatal Injuries</th>\n",
       "      <th>Total Serious Injuries</th>\n",
       "      <th>Total Minor Injuries</th>\n",
       "      <th>Total Uninjured</th>\n",
       "    </tr>\n",
       "    <tr>\n",
       "      <th>Aircraft Category</th>\n",
       "      <th></th>\n",
       "      <th></th>\n",
       "      <th></th>\n",
       "      <th></th>\n",
       "      <th></th>\n",
       "    </tr>\n",
       "  </thead>\n",
       "  <tbody>\n",
       "    <tr>\n",
       "      <th>Airplane</th>\n",
       "      <td>31478.0</td>\n",
       "      <td>15991.0</td>\n",
       "      <td>7253.0</td>\n",
       "      <td>6276.0</td>\n",
       "      <td>170487.0</td>\n",
       "    </tr>\n",
       "    <tr>\n",
       "      <th>Balloon</th>\n",
       "      <td>106.0</td>\n",
       "      <td>43.0</td>\n",
       "      <td>186.0</td>\n",
       "      <td>185.0</td>\n",
       "      <td>844.0</td>\n",
       "    </tr>\n",
       "    <tr>\n",
       "      <th>Blimp</th>\n",
       "      <td>6.0</td>\n",
       "      <td>0.0</td>\n",
       "      <td>0.0</td>\n",
       "      <td>3.0</td>\n",
       "      <td>5.0</td>\n",
       "    </tr>\n",
       "    <tr>\n",
       "      <th>Glider</th>\n",
       "      <td>162.0</td>\n",
       "      <td>99.0</td>\n",
       "      <td>113.0</td>\n",
       "      <td>112.0</td>\n",
       "      <td>367.0</td>\n",
       "    </tr>\n",
       "    <tr>\n",
       "      <th>Gyrocraft</th>\n",
       "      <td>173.0</td>\n",
       "      <td>44.0</td>\n",
       "      <td>55.0</td>\n",
       "      <td>30.0</td>\n",
       "      <td>90.0</td>\n",
       "    </tr>\n",
       "    <tr>\n",
       "      <th>Helicopter</th>\n",
       "      <td>3662.0</td>\n",
       "      <td>1754.0</td>\n",
       "      <td>1034.0</td>\n",
       "      <td>888.0</td>\n",
       "      <td>3994.0</td>\n",
       "    </tr>\n",
       "    <tr>\n",
       "      <th>Powered Parachute</th>\n",
       "      <td>91.0</td>\n",
       "      <td>15.0</td>\n",
       "      <td>40.0</td>\n",
       "      <td>73.0</td>\n",
       "      <td>23.0</td>\n",
       "    </tr>\n",
       "    <tr>\n",
       "      <th>Powered-Lift</th>\n",
       "      <td>7.0</td>\n",
       "      <td>0.0</td>\n",
       "      <td>1.0</td>\n",
       "      <td>0.0</td>\n",
       "      <td>4.0</td>\n",
       "    </tr>\n",
       "    <tr>\n",
       "      <th>Rocket</th>\n",
       "      <td>1.0</td>\n",
       "      <td>1.0</td>\n",
       "      <td>0.0</td>\n",
       "      <td>1.0</td>\n",
       "      <td>0.0</td>\n",
       "    </tr>\n",
       "    <tr>\n",
       "      <th>ULTR</th>\n",
       "      <td>1.0</td>\n",
       "      <td>0.0</td>\n",
       "      <td>0.0</td>\n",
       "      <td>1.0</td>\n",
       "      <td>0.0</td>\n",
       "    </tr>\n",
       "    <tr>\n",
       "      <th>UNK</th>\n",
       "      <td>2.0</td>\n",
       "      <td>0.0</td>\n",
       "      <td>0.0</td>\n",
       "      <td>0.0</td>\n",
       "      <td>0.0</td>\n",
       "    </tr>\n",
       "    <tr>\n",
       "      <th>Ultralight</th>\n",
       "      <td>31.0</td>\n",
       "      <td>10.0</td>\n",
       "      <td>11.0</td>\n",
       "      <td>8.0</td>\n",
       "      <td>14.0</td>\n",
       "    </tr>\n",
       "    <tr>\n",
       "      <th>Unknown</th>\n",
       "      <td>64540.0</td>\n",
       "      <td>31310.0</td>\n",
       "      <td>12440.0</td>\n",
       "      <td>19670.0</td>\n",
       "      <td>267214.0</td>\n",
       "    </tr>\n",
       "    <tr>\n",
       "      <th>WSFT</th>\n",
       "      <td>9.0</td>\n",
       "      <td>10.0</td>\n",
       "      <td>1.0</td>\n",
       "      <td>2.0</td>\n",
       "      <td>1.0</td>\n",
       "    </tr>\n",
       "    <tr>\n",
       "      <th>Weight-Shift</th>\n",
       "      <td>160.0</td>\n",
       "      <td>67.0</td>\n",
       "      <td>58.0</td>\n",
       "      <td>50.0</td>\n",
       "      <td>47.0</td>\n",
       "    </tr>\n",
       "  </tbody>\n",
       "</table>\n",
       "</div>"
      ],
      "text/plain": [
       "                   Number of Engines  Total Fatal Injuries  \\\n",
       "Aircraft Category                                            \n",
       "Airplane                     31478.0               15991.0   \n",
       "Balloon                        106.0                  43.0   \n",
       "Blimp                            6.0                   0.0   \n",
       "Glider                         162.0                  99.0   \n",
       "Gyrocraft                      173.0                  44.0   \n",
       "Helicopter                    3662.0                1754.0   \n",
       "Powered Parachute               91.0                  15.0   \n",
       "Powered-Lift                     7.0                   0.0   \n",
       "Rocket                           1.0                   1.0   \n",
       "ULTR                             1.0                   0.0   \n",
       "UNK                              2.0                   0.0   \n",
       "Ultralight                      31.0                  10.0   \n",
       "Unknown                      64540.0               31310.0   \n",
       "WSFT                             9.0                  10.0   \n",
       "Weight-Shift                   160.0                  67.0   \n",
       "\n",
       "                   Total Serious Injuries  Total Minor Injuries  \\\n",
       "Aircraft Category                                                 \n",
       "Airplane                           7253.0                6276.0   \n",
       "Balloon                             186.0                 185.0   \n",
       "Blimp                                 0.0                   3.0   \n",
       "Glider                              113.0                 112.0   \n",
       "Gyrocraft                            55.0                  30.0   \n",
       "Helicopter                         1034.0                 888.0   \n",
       "Powered Parachute                    40.0                  73.0   \n",
       "Powered-Lift                          1.0                   0.0   \n",
       "Rocket                                0.0                   1.0   \n",
       "ULTR                                  0.0                   1.0   \n",
       "UNK                                   0.0                   0.0   \n",
       "Ultralight                           11.0                   8.0   \n",
       "Unknown                           12440.0               19670.0   \n",
       "WSFT                                  1.0                   2.0   \n",
       "Weight-Shift                         58.0                  50.0   \n",
       "\n",
       "                   Total Uninjured  \n",
       "Aircraft Category                   \n",
       "Airplane                  170487.0  \n",
       "Balloon                      844.0  \n",
       "Blimp                          5.0  \n",
       "Glider                       367.0  \n",
       "Gyrocraft                     90.0  \n",
       "Helicopter                  3994.0  \n",
       "Powered Parachute             23.0  \n",
       "Powered-Lift                   4.0  \n",
       "Rocket                         0.0  \n",
       "ULTR                           0.0  \n",
       "UNK                            0.0  \n",
       "Ultralight                    14.0  \n",
       "Unknown                   267214.0  \n",
       "WSFT                           1.0  \n",
       "Weight-Shift                  47.0  "
      ]
     },
     "execution_count": 126,
     "metadata": {},
     "output_type": "execute_result"
    }
   ],
   "source": [
    "ACI_TSI = df.groupby('Aircraft Category',sort=True).sum()['Total Uninjured'].sort_values(ascending = False).index\n",
    "ACV_TSI = df.groupby('Aircraft Category',sort=True).sum()['Total Uninjured'].sort_values(ascending = False).values\n",
    "df.groupby('Aircraft Category').sum()"
   ]
  },
  {
   "cell_type": "code",
   "execution_count": 127,
   "metadata": {},
   "outputs": [
    {
     "data": {
      "image/png": "[encoded data removed]",
      "text/plain": [
       "<Figure size 432x288 with 1 Axes>"
      ]
     },
     "metadata": {
      "needs_background": "light"
     },
     "output_type": "display_data"
    }
   ],
   "source": [
    "fig, ax = plt.subplots()\n",
    "ax.barh(ACI_TSI,ACV_TSI)\n",
    "ax.set_title('Total uninjured by Aircraft category')\n",
    "ax.set_xlabel('Total uninjured')\n",
    "ax.set_ylabel('Aircraft Category')\n",
    "\n",
    "plt.plot();"
   ]
  },
  {
   "cell_type": "code",
   "execution_count": 128,
   "metadata": {},
   "outputs": [
    {
     "data": {
      "text/html": [
       "<div>\n",
       "<style scoped>\n",
       "    .dataframe tbody tr th:only-of-type {\n",
       "        vertical-align: middle;\n",
       "    }\n",
       "\n",
       "    .dataframe tbody tr th {\n",
       "        vertical-align: top;\n",
       "    }\n",
       "\n",
       "    .dataframe thead th {\n",
       "        text-align: right;\n",
       "    }\n",
       "</style>\n",
       "<table border=\"1\" class=\"dataframe\">\n",
       "  <thead>\n",
       "    <tr style=\"text-align: right;\">\n",
       "      <th></th>\n",
       "      <th></th>\n",
       "      <th>Number of Engines</th>\n",
       "      <th>Total Fatal Injuries</th>\n",
       "      <th>Total Serious Injuries</th>\n",
       "      <th>Total Minor Injuries</th>\n",
       "      <th>Total Uninjured</th>\n",
       "    </tr>\n",
       "    <tr>\n",
       "      <th>Aircraft Category</th>\n",
       "      <th>Investigation Type</th>\n",
       "      <th></th>\n",
       "      <th></th>\n",
       "      <th></th>\n",
       "      <th></th>\n",
       "      <th></th>\n",
       "    </tr>\n",
       "  </thead>\n",
       "  <tbody>\n",
       "    <tr>\n",
       "      <th rowspan=\"2\" valign=\"top\">Airplane</th>\n",
       "      <th>Accident</th>\n",
       "      <td>28984.0</td>\n",
       "      <td>15989.0</td>\n",
       "      <td>6980.0</td>\n",
       "      <td>5818.0</td>\n",
       "      <td>105675.0</td>\n",
       "    </tr>\n",
       "    <tr>\n",
       "      <th>Incident</th>\n",
       "      <td>2494.0</td>\n",
       "      <td>2.0</td>\n",
       "      <td>273.0</td>\n",
       "      <td>458.0</td>\n",
       "      <td>64812.0</td>\n",
       "    </tr>\n",
       "    <tr>\n",
       "      <th rowspan=\"2\" valign=\"top\">Balloon</th>\n",
       "      <th>Accident</th>\n",
       "      <td>105.0</td>\n",
       "      <td>43.0</td>\n",
       "      <td>185.0</td>\n",
       "      <td>185.0</td>\n",
       "      <td>836.0</td>\n",
       "    </tr>\n",
       "    <tr>\n",
       "      <th>Incident</th>\n",
       "      <td>1.0</td>\n",
       "      <td>0.0</td>\n",
       "      <td>1.0</td>\n",
       "      <td>0.0</td>\n",
       "      <td>8.0</td>\n",
       "    </tr>\n",
       "    <tr>\n",
       "      <th>Blimp</th>\n",
       "      <th>Accident</th>\n",
       "      <td>6.0</td>\n",
       "      <td>0.0</td>\n",
       "      <td>0.0</td>\n",
       "      <td>3.0</td>\n",
       "      <td>5.0</td>\n",
       "    </tr>\n",
       "    <tr>\n",
       "      <th>Glider</th>\n",
       "      <th>Accident</th>\n",
       "      <td>162.0</td>\n",
       "      <td>99.0</td>\n",
       "      <td>113.0</td>\n",
       "      <td>112.0</td>\n",
       "      <td>367.0</td>\n",
       "    </tr>\n",
       "    <tr>\n",
       "      <th>Gyrocraft</th>\n",
       "      <th>Accident</th>\n",
       "      <td>173.0</td>\n",
       "      <td>44.0</td>\n",
       "      <td>55.0</td>\n",
       "      <td>30.0</td>\n",
       "      <td>90.0</td>\n",
       "    </tr>\n",
       "    <tr>\n",
       "      <th rowspan=\"2\" valign=\"top\">Helicopter</th>\n",
       "      <th>Accident</th>\n",
       "      <td>3546.0</td>\n",
       "      <td>1754.0</td>\n",
       "      <td>1031.0</td>\n",
       "      <td>888.0</td>\n",
       "      <td>3672.0</td>\n",
       "    </tr>\n",
       "    <tr>\n",
       "      <th>Incident</th>\n",
       "      <td>116.0</td>\n",
       "      <td>0.0</td>\n",
       "      <td>3.0</td>\n",
       "      <td>0.0</td>\n",
       "      <td>322.0</td>\n",
       "    </tr>\n",
       "    <tr>\n",
       "      <th>Powered Parachute</th>\n",
       "      <th>Accident</th>\n",
       "      <td>91.0</td>\n",
       "      <td>15.0</td>\n",
       "      <td>40.0</td>\n",
       "      <td>73.0</td>\n",
       "      <td>23.0</td>\n",
       "    </tr>\n",
       "    <tr>\n",
       "      <th rowspan=\"2\" valign=\"top\">Powered-Lift</th>\n",
       "      <th>Accident</th>\n",
       "      <td>3.0</td>\n",
       "      <td>0.0</td>\n",
       "      <td>1.0</td>\n",
       "      <td>0.0</td>\n",
       "      <td>3.0</td>\n",
       "    </tr>\n",
       "    <tr>\n",
       "      <th>Incident</th>\n",
       "      <td>4.0</td>\n",
       "      <td>0.0</td>\n",
       "      <td>0.0</td>\n",
       "      <td>0.0</td>\n",
       "      <td>1.0</td>\n",
       "    </tr>\n",
       "    <tr>\n",
       "      <th>Rocket</th>\n",
       "      <th>Accident</th>\n",
       "      <td>1.0</td>\n",
       "      <td>1.0</td>\n",
       "      <td>0.0</td>\n",
       "      <td>1.0</td>\n",
       "      <td>0.0</td>\n",
       "    </tr>\n",
       "    <tr>\n",
       "      <th>ULTR</th>\n",
       "      <th>Accident</th>\n",
       "      <td>1.0</td>\n",
       "      <td>0.0</td>\n",
       "      <td>0.0</td>\n",
       "      <td>1.0</td>\n",
       "      <td>0.0</td>\n",
       "    </tr>\n",
       "    <tr>\n",
       "      <th>UNK</th>\n",
       "      <th>Accident</th>\n",
       "      <td>2.0</td>\n",
       "      <td>0.0</td>\n",
       "      <td>0.0</td>\n",
       "      <td>0.0</td>\n",
       "      <td>0.0</td>\n",
       "    </tr>\n",
       "    <tr>\n",
       "      <th>Ultralight</th>\n",
       "      <th>Accident</th>\n",
       "      <td>31.0</td>\n",
       "      <td>10.0</td>\n",
       "      <td>11.0</td>\n",
       "      <td>8.0</td>\n",
       "      <td>14.0</td>\n",
       "    </tr>\n",
       "    <tr>\n",
       "      <th rowspan=\"2\" valign=\"top\">Unknown</th>\n",
       "      <th>Accident</th>\n",
       "      <td>60595.0</td>\n",
       "      <td>31290.0</td>\n",
       "      <td>12411.0</td>\n",
       "      <td>18947.0</td>\n",
       "      <td>148413.0</td>\n",
       "    </tr>\n",
       "    <tr>\n",
       "      <th>Incident</th>\n",
       "      <td>3945.0</td>\n",
       "      <td>20.0</td>\n",
       "      <td>29.0</td>\n",
       "      <td>723.0</td>\n",
       "      <td>118801.0</td>\n",
       "    </tr>\n",
       "    <tr>\n",
       "      <th>WSFT</th>\n",
       "      <th>Accident</th>\n",
       "      <td>9.0</td>\n",
       "      <td>10.0</td>\n",
       "      <td>1.0</td>\n",
       "      <td>2.0</td>\n",
       "      <td>1.0</td>\n",
       "    </tr>\n",
       "    <tr>\n",
       "      <th>Weight-Shift</th>\n",
       "      <th>Accident</th>\n",
       "      <td>160.0</td>\n",
       "      <td>67.0</td>\n",
       "      <td>58.0</td>\n",
       "      <td>50.0</td>\n",
       "      <td>47.0</td>\n",
       "    </tr>\n",
       "  </tbody>\n",
       "</table>\n",
       "</div>"
      ],
      "text/plain": [
       "                                      Number of Engines  Total Fatal Injuries  \\\n",
       "Aircraft Category Investigation Type                                            \n",
       "Airplane          Accident                      28984.0               15989.0   \n",
       "                  Incident                       2494.0                   2.0   \n",
       "Balloon           Accident                        105.0                  43.0   \n",
       "                  Incident                          1.0                   0.0   \n",
       "Blimp             Accident                          6.0                   0.0   \n",
       "Glider            Accident                        162.0                  99.0   \n",
       "Gyrocraft         Accident                        173.0                  44.0   \n",
       "Helicopter        Accident                       3546.0                1754.0   \n",
       "                  Incident                        116.0                   0.0   \n",
       "Powered Parachute Accident                         91.0                  15.0   \n",
       "Powered-Lift      Accident                          3.0                   0.0   \n",
       "                  Incident                          4.0                   0.0   \n",
       "Rocket            Accident                          1.0                   1.0   \n",
       "ULTR              Accident                          1.0                   0.0   \n",
       "UNK               Accident                          2.0                   0.0   \n",
       "Ultralight        Accident                         31.0                  10.0   \n",
       "Unknown           Accident                      60595.0               31290.0   \n",
       "                  Incident                       3945.0                  20.0   \n",
       "WSFT              Accident                          9.0                  10.0   \n",
       "Weight-Shift      Accident                        160.0                  67.0   \n",
       "\n",
       "                                      Total Serious Injuries  \\\n",
       "Aircraft Category Investigation Type                           \n",
       "Airplane          Accident                            6980.0   \n",
       "                  Incident                             273.0   \n",
       "Balloon           Accident                             185.0   \n",
       "                  Incident                               1.0   \n",
       "Blimp             Accident                               0.0   \n",
       "Glider            Accident                             113.0   \n",
       "Gyrocraft         Accident                              55.0   \n",
       "Helicopter        Accident                            1031.0   \n",
       "                  Incident                               3.0   \n",
       "Powered Parachute Accident                              40.0   \n",
       "Powered-Lift      Accident                               1.0   \n",
       "                  Incident                               0.0   \n",
       "Rocket            Accident                               0.0   \n",
       "ULTR              Accident                               0.0   \n",
       "UNK               Accident                               0.0   \n",
       "Ultralight        Accident                              11.0   \n",
       "Unknown           Accident                           12411.0   \n",
       "                  Incident                              29.0   \n",
       "WSFT              Accident                               1.0   \n",
       "Weight-Shift      Accident                              58.0   \n",
       "\n",
       "                                      Total Minor Injuries  Total Uninjured  \n",
       "Aircraft Category Investigation Type                                         \n",
       "Airplane          Accident                          5818.0         105675.0  \n",
       "                  Incident                           458.0          64812.0  \n",
       "Balloon           Accident                           185.0            836.0  \n",
       "                  Incident                             0.0              8.0  \n",
       "Blimp             Accident                             3.0              5.0  \n",
       "Glider            Accident                           112.0            367.0  \n",
       "Gyrocraft         Accident                            30.0             90.0  \n",
       "Helicopter        Accident                           888.0           3672.0  \n",
       "                  Incident                             0.0            322.0  \n",
       "Powered Parachute Accident                            73.0             23.0  \n",
       "Powered-Lift      Accident                             0.0              3.0  \n",
       "                  Incident                             0.0              1.0  \n",
       "Rocket            Accident                             1.0              0.0  \n",
       "ULTR              Accident                             1.0              0.0  \n",
       "UNK               Accident                             0.0              0.0  \n",
       "Ultralight        Accident                             8.0             14.0  \n",
       "Unknown           Accident                         18947.0         148413.0  \n",
       "                  Incident                           723.0         118801.0  \n",
       "WSFT              Accident                             2.0              1.0  \n",
       "Weight-Shift      Accident                            50.0             47.0  "
      ]
     },
     "execution_count": 128,
     "metadata": {},
     "output_type": "execute_result"
    }
   ],
   "source": [
    "df.groupby(['Aircraft Category','Investigation Type']).sum()"
   ]
  },
  {
   "cell_type": "code",
   "execution_count": 129,
   "metadata": {},
   "outputs": [
    {
     "data": {
      "image/png": "[encoded data removed]",
      "text/plain": [
       "<Figure size 432x288 with 1 Axes>"
      ]
     },
     "metadata": {
      "needs_background": "light"
     },
     "output_type": "display_data"
    }
   ],
   "source": [
    "df.groupby('Country').sum()['Total Fatal Injuries'].sort_values(ascending =False)[:20].plot(kind='barh');"
   ]
  },
  {
   "cell_type": "code",
   "execution_count": 130,
   "metadata": {},
   "outputs": [
    {
     "data": {
      "image/png": "[encoded data removed]",
      "text/plain": [
       "<Figure size 432x288 with 1 Axes>"
      ]
     },
     "metadata": {
      "needs_background": "light"
     },
     "output_type": "display_data"
    }
   ],
   "source": [
    "df.groupby('Country').sum()['Total Serious Injuries'].sort_values(ascending =False)[:20].plot(kind = 'barh');"
   ]
  },
  {
   "cell_type": "code",
   "execution_count": 131,
   "metadata": {},
   "outputs": [
    {
     "data": {
      "image/png": "[encoded data removed]",
      "text/plain": [
       "<Figure size 432x288 with 1 Axes>"
      ]
     },
     "metadata": {
      "needs_background": "light"
     },
     "output_type": "display_data"
    }
   ],
   "source": [
    "df.groupby('Country').sum()['Total Minor Injuries'].sort_values(ascending =False)[:20].plot(kind = 'barh');"
   ]
  },
  {
   "cell_type": "code",
   "execution_count": 132,
   "metadata": {},
   "outputs": [
    {
     "data": {
      "image/png": "[encoded data removed]",
      "text/plain": [
       "<Figure size 432x288 with 1 Axes>"
      ]
     },
     "metadata": {
      "needs_background": "light"
     },
     "output_type": "display_data"
    }
   ],
   "source": [
    "df.groupby('Country').sum()['Total Uninjured'].sort_values(ascending =False)[:20].plot(kind ='bar');"
   ]
  },
  {
   "cell_type": "markdown",
   "metadata": {},
   "source": [
    "hipnlkl"
   ]
  },
  {
   "cell_type": "code",
   "execution_count": 133,
   "metadata": {},
   "outputs": [
    {
     "data": {
      "text/plain": [
       "Aircraft Category  Aircraft damage\n",
       "Unknown            Destroyed          27387.0\n",
       "Airplane           Destroyed          11483.0\n",
       "                   Substantial         4183.0\n",
       "Unknown            Substantial         2770.0\n",
       "                   Unknown             1046.0\n",
       "Helicopter         Destroyed           1020.0\n",
       "                   Substantial          697.0\n",
       "Airplane           Minor                176.0\n",
       "                   Unknown              149.0\n",
       "Unknown            Minor                107.0\n",
       "Glider             Substantial           76.0\n",
       "Weight-Shift       Substantial           57.0\n",
       "Helicopter         Unknown               34.0\n",
       "Balloon            Destroyed             28.0\n",
       "Gyrocraft          Substantial           23.0\n",
       "                   Destroyed             21.0\n",
       "Glider             Destroyed             21.0\n",
       "Powered Parachute  Substantial           11.0\n",
       "Weight-Shift       Destroyed             10.0\n",
       "Balloon            Substantial           10.0\n",
       "Ultralight         Substantial            8.0\n",
       "WSFT               Substantial            8.0\n",
       "Balloon            Unknown                4.0\n",
       "Helicopter         Minor                  3.0\n",
       "Powered Parachute  Unknown                3.0\n",
       "WSFT               Destroyed              2.0\n",
       "Glider             Minor                  1.0\n",
       "                   Unknown                1.0\n",
       "Balloon            Minor                  1.0\n",
       "Ultralight         Unknown                1.0\n",
       "                   Destroyed              1.0\n",
       "Powered Parachute  Destroyed              1.0\n",
       "Rocket             Destroyed              1.0\n",
       "Blimp              Destroyed              0.0\n",
       "                   Substantial            0.0\n",
       "Weight-Shift       Unknown                0.0\n",
       "Gyrocraft          Minor                  0.0\n",
       "Powered-Lift       Destroyed              0.0\n",
       "                   Minor                  0.0\n",
       "                   Substantial            0.0\n",
       "                   Unknown                0.0\n",
       "ULTR               Substantial            0.0\n",
       "UNK                Unknown                0.0\n",
       "Weight-Shift       Minor                  0.0\n",
       "Powered Parachute  Minor                  0.0\n",
       "Name: Total Fatal Injuries, dtype: float64"
      ]
     },
     "execution_count": 133,
     "metadata": {},
     "output_type": "execute_result"
    }
   ],
   "source": [
    "df.groupby(['Aircraft Category','Aircraft damage']).sum()['Total Fatal Injuries'].sort_values(ascending=False)"
   ]
  },
  {
   "cell_type": "code",
   "execution_count": 134,
   "metadata": {},
   "outputs": [
    {
     "data": {
      "text/plain": [
       "Aircraft Category  Make             \n",
       "Unknown            Cessna               6532.0\n",
       "                   Boeing               5155.0\n",
       "                   Piper                4766.0\n",
       "Airplane           Boeing               3278.0\n",
       "                   Cessna               3049.0\n",
       "Unknown            Beech                2574.0\n",
       "Airplane           Piper                1882.0\n",
       "                   Airbus               1316.0\n",
       "                   Beech                1192.0\n",
       "Unknown            Mcdonnell Douglas    1185.0\n",
       "                   Douglas               917.0\n",
       "                   Airbus Industrie      822.0\n",
       "                   Bell                  733.0\n",
       "Helicopter         Bell                  552.0\n",
       "Unknown            Mooney                474.0\n",
       "                   Tupolev               420.0\n",
       "Airplane           Airbus Industrie      352.0\n",
       "Helicopter         Robinson              329.0\n",
       "Airplane           Embraer               319.0\n",
       "Unknown            Robinson              286.0\n",
       "Name: Total Fatal Injuries, dtype: float64"
      ]
     },
     "execution_count": 134,
     "metadata": {},
     "output_type": "execute_result"
    }
   ],
   "source": [
    "df.groupby(['Aircraft Category','Make']).sum()['Total Fatal Injuries'].sort_values(ascending=False)[:20]"
   ]
  },
  {
   "cell_type": "code",
   "execution_count": 135,
   "metadata": {},
   "outputs": [
    {
     "data": {
      "text/plain": [
       "Aircraft Category  Amateur Built\n",
       "Unknown            No               29299.0\n",
       "Airplane           No               14972.0\n",
       "Unknown            Yes               2011.0\n",
       "Helicopter         No                1709.0\n",
       "Airplane           Yes               1019.0\n",
       "Glider             No                  90.0\n",
       "Weight-Shift       No                  58.0\n",
       "Helicopter         Yes                 45.0\n",
       "Balloon            No                  41.0\n",
       "Gyrocraft          Yes                 37.0\n",
       "Powered Parachute  No                  14.0\n",
       "WSFT               No                  10.0\n",
       "Glider             Yes                  9.0\n",
       "Weight-Shift       Yes                  9.0\n",
       "Ultralight         No                   8.0\n",
       "Gyrocraft          No                   7.0\n",
       "Balloon            Yes                  2.0\n",
       "Ultralight         Yes                  2.0\n",
       "Powered Parachute  Yes                  1.0\n",
       "Rocket             No                   1.0\n",
       "Name: Total Fatal Injuries, dtype: float64"
      ]
     },
     "execution_count": 135,
     "metadata": {},
     "output_type": "execute_result"
    }
   ],
   "source": [
    "df.groupby(['Aircraft Category','Amateur Built']).sum()['Total Fatal Injuries'].sort_values(ascending=False)[:20]"
   ]
  },
  {
   "cell_type": "code",
   "execution_count": 136,
   "metadata": {},
   "outputs": [
    {
     "data": {
      "text/plain": [
       "Aircraft Category  Weather Condition\n",
       "Airplane           IMC                  2.014245\n",
       "                   UNK                  1.643799\n",
       "                   VMC                  0.486669\n",
       "Balloon            IMC                  6.000000\n",
       "                   UNK                  0.000000\n",
       "                   VMC                  0.110132\n",
       "Blimp              VMC                  0.000000\n",
       "Glider             IMC                  0.500000\n",
       "                   UNK                  0.666667\n",
       "                   VMC                  0.190855\n",
       "Gyrocraft          IMC                  0.000000\n",
       "                   VMC                  0.257310\n",
       "Helicopter         IMC                  1.893805\n",
       "                   UNK                  2.042553\n",
       "                   VMC                  0.442131\n",
       "Powered Parachute  VMC                  0.164835\n",
       "Powered-Lift       VMC                  0.000000\n",
       "Rocket             VMC                  1.000000\n",
       "ULTR               VMC                  0.000000\n",
       "UNK                VMC                  0.000000\n",
       "Ultralight         IMC                  0.000000\n",
       "                   VMC                  0.344828\n",
       "Unknown            IMC                  1.968319\n",
       "                   UNK                  2.876336\n",
       "                   VMC                  0.405319\n",
       "WSFT               VMC                  1.111111\n",
       "Weight-Shift       IMC                  1.000000\n",
       "                   VMC                  0.405063\n",
       "Name: Total Fatal Injuries, dtype: float64"
      ]
     },
     "execution_count": 136,
     "metadata": {},
     "output_type": "execute_result"
    }
   ],
   "source": [
    "df.groupby(['Aircraft Category','Weather Condition']).mean()['Total Fatal Injuries']"
   ]
  },
  {
   "cell_type": "markdown",
   "metadata": {},
   "source": [
    "In order to analyze our data better, let us export it and continue with Power BI"
   ]
  },
  {
   "cell_type": "code",
   "execution_count": 137,
   "metadata": {},
   "outputs": [],
   "source": [
    "df.to_csv('Aviation_treated2.csv')"
   ]
  }
 ],
 "metadata": {
  "kernelspec": {
   "display_name": "Python (learn-env)",
   "language": "python",
   "name": "learn-env"
  },
  "language_info": {
   "codemirror_mode": {
    "name": "ipython",
    "version": 3
   },
   "file_extension": ".py",
   "mimetype": "text/x-python",
   "name": "python",
   "nbconvert_exporter": "python",
   "pygments_lexer": "ipython3",
   "version": "3.8.5"
  }
 },
 "nbformat": 4,
 "nbformat_minor": 4
}
